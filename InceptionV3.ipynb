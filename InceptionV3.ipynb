{
 "cells": [
  {
   "cell_type": "markdown",
   "metadata": {},
   "source": [
    "### Import Libraries"
   ]
  },
  {
   "cell_type": "code",
   "execution_count": 1,
   "metadata": {},
   "outputs": [],
   "source": [
    "import os\n",
    "import matplotlib.pyplot as plt\n",
    "import tensorflow as tf\n",
    "from keras.applications.inception_v3 import InceptionV3"
   ]
  },
  {
   "cell_type": "code",
   "execution_count": 2,
   "metadata": {},
   "outputs": [
    {
     "name": "stdout",
     "output_type": "stream",
     "text": [
      "Num GPUs Available:  1\n"
     ]
    }
   ],
   "source": [
    "print(\"Num GPUs Available: \", len(tf.config.list_physical_devices('GPU')))"
   ]
  },
  {
   "cell_type": "markdown",
   "metadata": {},
   "source": [
    "### Labeling Dataset based on the Directory Names"
   ]
  },
  {
   "cell_type": "code",
   "execution_count": 16,
   "metadata": {},
   "outputs": [
    {
     "data": {
      "text/plain": [
       "['Bag',\n",
       " 'Book',\n",
       " 'Chair',\n",
       " 'Cup',\n",
       " 'Eraser',\n",
       " 'Fork',\n",
       " 'Pen',\n",
       " 'Pencil',\n",
       " 'Pencil Case',\n",
       " 'Plate',\n",
       " 'Soap',\n",
       " 'Spoon',\n",
       " 'Table',\n",
       " 'Toothbrush',\n",
       " 'Toothpaste']"
      ]
     },
     "execution_count": 16,
     "metadata": {},
     "output_type": "execute_result"
    }
   ],
   "source": [
    "datasetDir = 'Dataset'\n",
    "\n",
    "# get the Subdirectory of the Dataset Folder\n",
    "for root, folder, files in os.walk(datasetDir):\n",
    "    if folder != []:\n",
    "        listDir = folder\n",
    "\n",
    "classes = []\n",
    "# retrieve the name and the number of the classification\n",
    "for i, category in enumerate(listDir):\n",
    "    # print(category)\n",
    "    classes.append(category)\n",
    "    # classes.append({'name' : category,'id' : i + 1, \"category\" : category})\n",
    "classes"
   ]
  },
  {
   "cell_type": "markdown",
   "metadata": {},
   "source": [
    "### Import Dataset"
   ]
  },
  {
   "cell_type": "code",
   "execution_count": 17,
   "metadata": {},
   "outputs": [
    {
     "name": "stdout",
     "output_type": "stream",
     "text": [
      "Found 2615 images belonging to 15 classes.\n",
      "Found 647 images belonging to 15 classes.\n",
      "Found 291 images belonging to 15 classes.\n"
     ]
    }
   ],
   "source": [
    "from keras.preprocessing.image import ImageDataGenerator\n",
    "\n",
    "# Create a datagen that is split the dataset into 80% Train and 20% Test\n",
    "datagen = ImageDataGenerator(\n",
    "    rescale=1./255,\n",
    "    rotation_range=90,\n",
    "    shear_range=20,\n",
    "    zoom_range=0.5,\n",
    "    width_shift_range=0.5,\n",
    "    height_shift_range=0.5,\n",
    "    horizontal_flip=True,\n",
    "    vertical_flip=True,\n",
    "    validation_split=0.2,\n",
    ")\n",
    "\n",
    "# val_datagen = ImageDataGenerator(\n",
    "#     rescale=1./255,\n",
    "#     rotation_range=90,\n",
    "#     shear_range=20,\n",
    "#     zoom_range=0.5,\n",
    "#     width_shift_range=0.5,\n",
    "#     height_shift_range=0.5,\n",
    "#     horizontal_flip=True,\n",
    "#     validation_split=0.2,\n",
    "# )\n",
    "\n",
    "test_datagen = ImageDataGenerator(\n",
    "    rescale=1./255,\n",
    ")\n",
    "\n",
    "# Training Set\n",
    "training_set = datagen.flow_from_directory(\n",
    "    datasetDir,\n",
    "    target_size=(299,299),\n",
    "    class_mode='categorical',\n",
    "    color_mode='rgb',\n",
    "    shuffle=True,\n",
    "    subset=\"training\",\n",
    "    batch_size=128\n",
    ")\n",
    "\n",
    "# Validation Set\n",
    "validation_set = datagen.flow_from_directory(\n",
    "    datasetDir,\n",
    "    target_size=(299,299),\n",
    "    class_mode='categorical',\n",
    "    color_mode='rgb',\n",
    "    shuffle=True,\n",
    "    subset=\"validation\",\n",
    "    batch_size=128\n",
    ")\n",
    "\n",
    "test_set = test_datagen.flow_from_directory(\n",
    "    'Test Set',\n",
    "    target_size=(299,299),\n",
    "    class_mode='categorical',\n",
    "    color_mode='rgb',\n",
    "    shuffle=True,\n",
    "    batch_size=128\n",
    ")"
   ]
  },
  {
   "cell_type": "markdown",
   "metadata": {},
   "source": [
    "<h3>Load Model Inception V3</h3>"
   ]
  },
  {
   "cell_type": "code",
   "execution_count": 18,
   "metadata": {},
   "outputs": [
    {
     "data": {
      "text/plain": [
       "False"
      ]
     },
     "execution_count": 18,
     "metadata": {},
     "output_type": "execute_result"
    }
   ],
   "source": [
    "base_model = InceptionV3(weights='imagenet' , include_top=False, input_shape=(299, 299, 3))\n",
    "base_model.trainable = False\n",
    "base_model.trainable"
   ]
  },
  {
   "cell_type": "code",
   "execution_count": 19,
   "metadata": {},
   "outputs": [],
   "source": [
    "model = tf.keras.models.Sequential([\n",
    "    base_model,\n",
    "    # tf.keras.layers.AveragePooling2D(pool_size=(8, 8)),\n",
    "    tf.keras.layers.Flatten(),\n",
    "    # tf.keras.layers.Dropout(0.5),\n",
    "    tf.keras.layers.Dense(len(classes) , activation='softmax')\n",
    "])"
   ]
  },
  {
   "cell_type": "code",
   "execution_count": 20,
   "metadata": {},
   "outputs": [
    {
     "name": "stdout",
     "output_type": "stream",
     "text": [
      "<keras.engine.functional.Functional object at 0x0000022EA5C503D0> False\n",
      "<keras.layers.core.flatten.Flatten object at 0x0000022DF94038E0> True\n",
      "<keras.layers.core.dense.Dense object at 0x0000022EA5C4B610> True\n"
     ]
    }
   ],
   "source": [
    "for layer in model.layers:\n",
    "    print(layer, layer.trainable)"
   ]
  },
  {
   "cell_type": "code",
   "execution_count": 21,
   "metadata": {},
   "outputs": [],
   "source": [
    "from datetime import datetime\n",
    "\n",
    "now = datetime.now()\n",
    "date_string = now.strftime('%d-%m-%Y-%H-%M-%S')\n",
    "start = date_string"
   ]
  },
  {
   "cell_type": "markdown",
   "metadata": {},
   "source": [
    "### Callbacks"
   ]
  },
  {
   "cell_type": "code",
   "execution_count": 22,
   "metadata": {},
   "outputs": [],
   "source": [
    "model_type = 'InceptionV3-Adam-0.0001'\n",
    "ckpt_path = f'Checkpoints/InceptionV3/{model_type}/{model_type}-checkpoints' + date_string + '_{accuracy:.3f}-training_log.hdf5'\n",
    "log_path = f'Logs/{model_type}.csv'"
   ]
  },
  {
   "cell_type": "code",
   "execution_count": 23,
   "metadata": {},
   "outputs": [],
   "source": [
    "record = open(f'Records/{model_type} record.txt' , 'a')\n",
    "record.write(f'{model_type} \\n')\n",
    "record.write(f'Start : {start} \\n')\n",
    "record.close()"
   ]
  },
  {
   "cell_type": "code",
   "execution_count": 24,
   "metadata": {},
   "outputs": [],
   "source": [
    "callbacks = [\n",
    "    tf.keras.callbacks.ModelCheckpoint(\n",
    "        ckpt_path,\n",
    "        monitor = 'val_accuracy',\n",
    "        mode = 'max',\n",
    "        save_freq='epoch',\n",
    "        save_best_only= True,\n",
    "        verbose= 1\n",
    "    ),\n",
    "    tf.keras.callbacks.CSVLogger(\n",
    "        log_path,\n",
    "        separator=',',\n",
    "        append=True\n",
    "    )\n",
    "]"
   ]
  },
  {
   "cell_type": "code",
   "execution_count": 25,
   "metadata": {},
   "outputs": [],
   "source": [
    "# model.load_weights(f'Checkpoints/InceptionV3/{model_type}/InceptionV3-Adam-0.0001-128Batch-checkpoints22-06-2022-23-15-29_0.688.hdf5')"
   ]
  },
  {
   "cell_type": "code",
   "execution_count": 26,
   "metadata": {},
   "outputs": [],
   "source": [
    "model.compile(\n",
    "    optimizer= tf.keras.optimizers.Adam(learning_rate=0.0001),\n",
    "    loss = tf.keras.losses.CategoricalCrossentropy(),\n",
    "    metrics = ['accuracy']\n",
    ")"
   ]
  },
  {
   "cell_type": "code",
   "execution_count": 27,
   "metadata": {},
   "outputs": [
    {
     "name": "stdout",
     "output_type": "stream",
     "text": [
      "Epoch 1/200\n",
      "21/21 [==============================] - ETA: 0s - loss: 2.3850 - accuracy: 0.3350\n",
      "Epoch 1: val_accuracy improved from -inf to 0.51314, saving model to Checkpoints/InceptionV3/InceptionV3-Adam-0.0001\\InceptionV3-Adam-0.0001-checkpoints26-06-2022-12-41-07_0.335.hdf5\n",
      "21/21 [==============================] - 143s 7s/step - loss: 2.3850 - accuracy: 0.3350 - val_loss: 1.4254 - val_accuracy: 0.5131\n",
      "Epoch 2/200\n",
      "21/21 [==============================] - ETA: 0s - loss: 1.3658 - accuracy: 0.5679\n",
      "Epoch 2: val_accuracy improved from 0.51314 to 0.58578, saving model to Checkpoints/InceptionV3/InceptionV3-Adam-0.0001\\InceptionV3-Adam-0.0001-checkpoints26-06-2022-12-41-07_0.568.hdf5\n",
      "21/21 [==============================] - 126s 6s/step - loss: 1.3658 - accuracy: 0.5679 - val_loss: 1.3529 - val_accuracy: 0.5858\n",
      "Epoch 3/200\n",
      "21/21 [==============================] - ETA: 0s - loss: 1.1645 - accuracy: 0.6195\n",
      "Epoch 3: val_accuracy improved from 0.58578 to 0.62442, saving model to Checkpoints/InceptionV3/InceptionV3-Adam-0.0001\\InceptionV3-Adam-0.0001-checkpoints26-06-2022-12-41-07_0.620.hdf5\n",
      "21/21 [==============================] - 129s 6s/step - loss: 1.1645 - accuracy: 0.6195 - val_loss: 1.2583 - val_accuracy: 0.6244\n",
      "Epoch 4/200\n",
      "21/21 [==============================] - ETA: 0s - loss: 1.1141 - accuracy: 0.6505\n",
      "Epoch 4: val_accuracy improved from 0.62442 to 0.64915, saving model to Checkpoints/InceptionV3/InceptionV3-Adam-0.0001\\InceptionV3-Adam-0.0001-checkpoints26-06-2022-12-41-07_0.650.hdf5\n",
      "21/21 [==============================] - 134s 6s/step - loss: 1.1141 - accuracy: 0.6505 - val_loss: 1.2178 - val_accuracy: 0.6491\n",
      "Epoch 5/200\n",
      "21/21 [==============================] - ETA: 0s - loss: 1.1062 - accuracy: 0.6398\n",
      "Epoch 5: val_accuracy did not improve from 0.64915\n",
      "21/21 [==============================] - 134s 6s/step - loss: 1.1062 - accuracy: 0.6398 - val_loss: 1.1397 - val_accuracy: 0.6476\n",
      "Epoch 6/200\n",
      "21/21 [==============================] - ETA: 0s - loss: 1.1117 - accuracy: 0.6669\n",
      "Epoch 6: val_accuracy improved from 0.64915 to 0.65224, saving model to Checkpoints/InceptionV3/InceptionV3-Adam-0.0001\\InceptionV3-Adam-0.0001-checkpoints26-06-2022-12-41-07_0.667.hdf5\n",
      "21/21 [==============================] - 149s 7s/step - loss: 1.1117 - accuracy: 0.6669 - val_loss: 1.1443 - val_accuracy: 0.6522\n",
      "Epoch 7/200\n",
      "21/21 [==============================] - ETA: 0s - loss: 1.0361 - accuracy: 0.6769\n",
      "Epoch 7: val_accuracy did not improve from 0.65224\n",
      "21/21 [==============================] - 168s 8s/step - loss: 1.0361 - accuracy: 0.6769 - val_loss: 1.2801 - val_accuracy: 0.6399\n",
      "Epoch 8/200\n",
      "21/21 [==============================] - ETA: 0s - loss: 1.0192 - accuracy: 0.6860\n",
      "Epoch 8: val_accuracy did not improve from 0.65224\n",
      "21/21 [==============================] - 138s 7s/step - loss: 1.0192 - accuracy: 0.6860 - val_loss: 1.1405 - val_accuracy: 0.6522\n",
      "Epoch 9/200\n",
      "21/21 [==============================] - ETA: 0s - loss: 0.9784 - accuracy: 0.6967\n",
      "Epoch 9: val_accuracy improved from 0.65224 to 0.67852, saving model to Checkpoints/InceptionV3/InceptionV3-Adam-0.0001\\InceptionV3-Adam-0.0001-checkpoints26-06-2022-12-41-07_0.697.hdf5\n",
      "21/21 [==============================] - 139s 7s/step - loss: 0.9784 - accuracy: 0.6967 - val_loss: 1.1038 - val_accuracy: 0.6785\n",
      "Epoch 10/200\n",
      "21/21 [==============================] - ETA: 0s - loss: 0.9778 - accuracy: 0.6945\n",
      "Epoch 10: val_accuracy did not improve from 0.67852\n",
      "21/21 [==============================] - 131s 6s/step - loss: 0.9778 - accuracy: 0.6945 - val_loss: 1.1899 - val_accuracy: 0.6646\n",
      "Epoch 11/200\n",
      "21/21 [==============================] - ETA: 0s - loss: 0.9417 - accuracy: 0.6998\n",
      "Epoch 11: val_accuracy did not improve from 0.67852\n",
      "21/21 [==============================] - 139s 7s/step - loss: 0.9417 - accuracy: 0.6998 - val_loss: 1.1319 - val_accuracy: 0.6507\n",
      "Epoch 12/200\n",
      "21/21 [==============================] - ETA: 0s - loss: 0.9392 - accuracy: 0.7143\n",
      "Epoch 12: val_accuracy did not improve from 0.67852\n",
      "21/21 [==============================] - 141s 7s/step - loss: 0.9392 - accuracy: 0.7143 - val_loss: 1.0822 - val_accuracy: 0.6723\n",
      "Epoch 13/200\n",
      "21/21 [==============================] - ETA: 0s - loss: 1.0398 - accuracy: 0.6841\n",
      "Epoch 13: val_accuracy did not improve from 0.67852\n",
      "21/21 [==============================] - 140s 7s/step - loss: 1.0398 - accuracy: 0.6841 - val_loss: 1.2248 - val_accuracy: 0.6491\n",
      "Epoch 14/200\n",
      "21/21 [==============================] - ETA: 0s - loss: 1.0012 - accuracy: 0.7033\n",
      "Epoch 14: val_accuracy did not improve from 0.67852\n",
      "21/21 [==============================] - 142s 7s/step - loss: 1.0012 - accuracy: 0.7033 - val_loss: 1.2536 - val_accuracy: 0.6538\n",
      "Epoch 15/200\n",
      "21/21 [==============================] - ETA: 0s - loss: 0.8996 - accuracy: 0.7228\n",
      "Epoch 15: val_accuracy improved from 0.67852 to 0.69243, saving model to Checkpoints/InceptionV3/InceptionV3-Adam-0.0001\\InceptionV3-Adam-0.0001-checkpoints26-06-2022-12-41-07_0.723.hdf5\n",
      "21/21 [==============================] - 143s 7s/step - loss: 0.8996 - accuracy: 0.7228 - val_loss: 1.1092 - val_accuracy: 0.6924\n",
      "Epoch 16/200\n",
      "21/21 [==============================] - ETA: 0s - loss: 0.9581 - accuracy: 0.7113\n",
      "Epoch 16: val_accuracy did not improve from 0.69243\n",
      "21/21 [==============================] - 139s 7s/step - loss: 0.9581 - accuracy: 0.7113 - val_loss: 1.1567 - val_accuracy: 0.6924\n",
      "Epoch 17/200\n",
      "21/21 [==============================] - ETA: 0s - loss: 0.9076 - accuracy: 0.7205\n",
      "Epoch 17: val_accuracy improved from 0.69243 to 0.71716, saving model to Checkpoints/InceptionV3/InceptionV3-Adam-0.0001\\InceptionV3-Adam-0.0001-checkpoints26-06-2022-12-41-07_0.720.hdf5\n",
      "21/21 [==============================] - 141s 7s/step - loss: 0.9076 - accuracy: 0.7205 - val_loss: 0.9744 - val_accuracy: 0.7172\n",
      "Epoch 18/200\n",
      "21/21 [==============================] - ETA: 0s - loss: 0.8787 - accuracy: 0.7254\n",
      "Epoch 18: val_accuracy did not improve from 0.71716\n",
      "21/21 [==============================] - 142s 7s/step - loss: 0.8787 - accuracy: 0.7254 - val_loss: 1.2737 - val_accuracy: 0.6615\n",
      "Epoch 19/200\n",
      "21/21 [==============================] - ETA: 0s - loss: 0.9582 - accuracy: 0.7147\n",
      "Epoch 19: val_accuracy did not improve from 0.71716\n",
      "21/21 [==============================] - 136s 6s/step - loss: 0.9582 - accuracy: 0.7147 - val_loss: 1.0363 - val_accuracy: 0.7032\n",
      "Epoch 20/200\n",
      "21/21 [==============================] - ETA: 0s - loss: 0.9602 - accuracy: 0.7117\n",
      "Epoch 20: val_accuracy did not improve from 0.71716\n",
      "21/21 [==============================] - 134s 6s/step - loss: 0.9602 - accuracy: 0.7117 - val_loss: 1.0083 - val_accuracy: 0.7063\n",
      "Epoch 21/200\n",
      "21/21 [==============================] - ETA: 0s - loss: 0.8932 - accuracy: 0.7304\n",
      "Epoch 21: val_accuracy did not improve from 0.71716\n",
      "21/21 [==============================] - 133s 6s/step - loss: 0.8932 - accuracy: 0.7304 - val_loss: 1.1566 - val_accuracy: 0.6971\n",
      "Epoch 22/200\n",
      "21/21 [==============================] - ETA: 0s - loss: 0.9050 - accuracy: 0.7258\n",
      "Epoch 22: val_accuracy did not improve from 0.71716\n",
      "21/21 [==============================] - 135s 6s/step - loss: 0.9050 - accuracy: 0.7258 - val_loss: 1.1542 - val_accuracy: 0.6878\n",
      "Epoch 23/200\n",
      "21/21 [==============================] - ETA: 0s - loss: 0.9071 - accuracy: 0.7270\n",
      "Epoch 23: val_accuracy did not improve from 0.71716\n",
      "21/21 [==============================] - 153s 8s/step - loss: 0.9071 - accuracy: 0.7270 - val_loss: 1.2006 - val_accuracy: 0.6631\n",
      "Epoch 24/200\n",
      "21/21 [==============================] - ETA: 0s - loss: 0.9482 - accuracy: 0.7250\n",
      "Epoch 24: val_accuracy did not improve from 0.71716\n",
      "21/21 [==============================] - 154s 7s/step - loss: 0.9482 - accuracy: 0.7250 - val_loss: 1.2553 - val_accuracy: 0.6739\n",
      "Epoch 25/200\n",
      "21/21 [==============================] - ETA: 0s - loss: 0.9757 - accuracy: 0.7124\n",
      "Epoch 25: val_accuracy did not improve from 0.71716\n",
      "21/21 [==============================] - 147s 7s/step - loss: 0.9757 - accuracy: 0.7124 - val_loss: 1.1090 - val_accuracy: 0.7017\n",
      "Epoch 26/200\n",
      "17/21 [=======================>......] - ETA: 21s - loss: 0.8774 - accuracy: 0.7456"
     ]
    }
   ],
   "source": [
    "model.fit(\n",
    "    training_set,\n",
    "    epochs = 200,\n",
    "    verbose = 1,\n",
    "    # initial_epoch=114,\n",
    "    validation_data = validation_set,\n",
    "    callbacks = callbacks,\n",
    "    batch_size = 32,\n",
    "    shuffle = True\n",
    ")"
   ]
  },
  {
   "cell_type": "code",
   "execution_count": null,
   "metadata": {},
   "outputs": [
    {
     "name": "stdout",
     "output_type": "stream",
     "text": [
      "3/3 [==============================] - 12s 3s/step - loss: 0.6200 - accuracy: 0.8316\n"
     ]
    },
    {
     "data": {
      "text/plain": [
       "[0.6199562549591064, 0.831615149974823]"
      ]
     },
     "execution_count": 14,
     "metadata": {},
     "output_type": "execute_result"
    }
   ],
   "source": [
    "model.evaluate(test_set, verbose=1)"
   ]
  },
  {
   "cell_type": "code",
   "execution_count": null,
   "metadata": {},
   "outputs": [],
   "source": [
    "model.save(f'Model/{model_type}.h5')"
   ]
  },
  {
   "cell_type": "code",
   "execution_count": null,
   "metadata": {},
   "outputs": [],
   "source": [
    "now = datetime.now()\n",
    "date_string = now.strftime('%d-%m-%Y-%H-%M-%S')\n",
    "end = date_string"
   ]
  },
  {
   "cell_type": "code",
   "execution_count": null,
   "metadata": {},
   "outputs": [],
   "source": [
    "record = open(f'Records/{model_type} record.txt' , 'a')\n",
    "record.write(f\"End : {end}\" )\n",
    "record.close()"
   ]
  },
  {
   "cell_type": "markdown",
   "metadata": {},
   "source": [
    "### Visualize Accuracy and Loss"
   ]
  },
  {
   "cell_type": "code",
   "execution_count": null,
   "metadata": {},
   "outputs": [],
   "source": [
    "import pandas as pd\n",
    "csv = pd.read_csv(log_path)"
   ]
  },
  {
   "cell_type": "code",
   "execution_count": null,
   "metadata": {},
   "outputs": [
    {
     "data": {
      "image/png": "[encoded data removed]",
      "text/plain": [
       "<Figure size 432x288 with 1 Axes>"
      ]
     },
     "metadata": {
      "needs_background": "light"
     },
     "output_type": "display_data"
    }
   ],
   "source": [
    "# summarize history for Accuracy\n",
    "plt.plot(csv['accuracy'])\n",
    "plt.plot(csv['val_accuracy'])\n",
    "plt.title(f'{model_type} Accuracy')\n",
    "plt.ylabel('Accuracy')\n",
    "plt.xlabel('epoch')\n",
    "plt.legend(['train', 'test'], loc='upper left')\n",
    "plt.show()"
   ]
  },
  {
   "cell_type": "code",
   "execution_count": null,
   "metadata": {},
   "outputs": [
    {
     "data": {
      "image/png": "[encoded data removed]",
      "text/plain": [
       "<Figure size 432x288 with 1 Axes>"
      ]
     },
     "metadata": {
      "needs_background": "light"
     },
     "output_type": "display_data"
    }
   ],
   "source": [
    "# summarize history for accuracy\n",
    "plt.plot(csv['loss'])\n",
    "plt.plot(csv['val_loss'])\n",
    "plt.title(f'{model_type} Loss')\n",
    "plt.ylabel('Loss')\n",
    "plt.xlabel('epoch')\n",
    "plt.legend(['train', 'test'], loc='upper left')\n",
    "plt.show()"
   ]
  }
 ],
 "metadata": {
  "interpreter": {
   "hash": "2689f82fbeacfdf1986d1920a0c288142f5de68ce628bbd1eab730fa0ce156c8"
  },
  "kernelspec": {
   "display_name": "Python 3.8.0 64-bit",
   "language": "python",
   "name": "python3"
  },
  "language_info": {
   "codemirror_mode": {
    "name": "ipython",
    "version": 3
   },
   "file_extension": ".py",
   "mimetype": "text/x-python",
   "name": "python",
   "nbconvert_exporter": "python",
   "pygments_lexer": "ipython3",
   "version": "3.8.0"
  },
  "orig_nbformat": 4
 },
 "nbformat": 4,
 "nbformat_minor": 2
}
